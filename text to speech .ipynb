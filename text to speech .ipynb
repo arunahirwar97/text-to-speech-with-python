{
 "cells": [
  {
   "cell_type": "markdown",
   "metadata": {},
   "source": [
    "# Text To Speech conversion "
   ]
  },
  {
   "cell_type": "code",
   "execution_count": 2,
   "metadata": {},
   "outputs": [],
   "source": [
    "from gtts import gTTS\n",
    "text = 'Hello everybody Today my presentation topic Introduction to computer architecture and organization So first i am describe computer architecture  Computer architecture refers to those attributes of a system visible to a programmer, or put another way, those attributes that have a direct impact on the logical execution of a program. Examples like Instruction set ,data types, Addressing Memory . Second is Computer Organization : Computer organization refersto the operational units and their interconnection that realize the architecture specification.,Examples Like : Control signals ,Interface between computer and peripherals,Memory technology'\n",
    "\n",
    "obj = gTTS(text = text,lang = 'en-in',slow = False)\n",
    "\n",
    "obj.save('H:/text to speech/project.mp3')\n"
   ]
  }
 ],
 "metadata": {
  "kernelspec": {
   "display_name": "Python 3",
   "language": "python",
   "name": "python3"
  },
  "language_info": {
   "codemirror_mode": {
    "name": "ipython",
    "version": 3
   },
   "file_extension": ".py",
   "mimetype": "text/x-python",
   "name": "python",
   "nbconvert_exporter": "python",
   "pygments_lexer": "ipython3",
   "version": "3.7.6"
  }
 },
 "nbformat": 4,
 "nbformat_minor": 4
}
